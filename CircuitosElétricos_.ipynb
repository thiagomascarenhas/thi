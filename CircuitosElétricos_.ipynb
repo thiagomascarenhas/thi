{
  "nbformat": 4,
  "nbformat_minor": 0,
  "metadata": {
    "colab": {
      "provenance": [],
      "toc_visible": true,
      "include_colab_link": true
    },
    "kernelspec": {
      "name": "python3",
      "display_name": "Python 3"
    },
    "language_info": {
      "name": "python"
    }
  },
  "cells": [
    {
      "cell_type": "markdown",
      "metadata": {
        "id": "view-in-github",
        "colab_type": "text"
      },
      "source": [
        "<a href=\"https://colab.research.google.com/github/thiagomascarenhas/thi/blob/main/CircuitosEl%C3%A9tricos_.ipynb\" target=\"_parent\"><img src=\"https://colab.research.google.com/assets/colab-badge.svg\" alt=\"Open In Colab\"/></a>"
      ]
    },
    {
      "cell_type": "markdown",
      "source": [
        "#**📓 Seja bem-vindo(a/e) ao *Notebook* sobre Circuitos Elétricos ⚡**\n",
        "\n",
        "---\n",
        "\n",
        "\n",
        "###🔵 Colab Notebook desenvolvido por **Thiago Mascarenhas**.\n",
        "Revisão do codigos **Abraão Albuquerque**\n",
        "\n",
        "---\n",
        "\n",
        " *Caso queira rodar o arquivo no seu PC, as bibliotecas Numpy e Sympy precisam estar instaladas.*\n",
        " - **[Link de instalação Numpy](https://numpy.org/install/)**\n",
        " - **[Link de instalação Scipy](https://scipy.org/install/)**"
      ],
      "metadata": {
        "id": "P25XOD4q9zJs"
      }
    },
    {
      "cell_type": "markdown",
      "source": [
        "Livro de Referência utilizado: [Robert Boylestad, Introdução à Análise de Circuitos](https://www.amazon.com.br/Introdu%C3%A7%C3%A3o-An%C3%A1lise-Circuitos-Robert-Boylestad/dp/8543024986) & [Charles K. Alexander, Fundamentos de Circuitos Elétricos](https://www.amazon.com.br/Fundamentos-Circuitos-El%C3%A9tricos-Charles-Alexander/dp/8580551722)"
      ],
      "metadata": {
        "id": "8VLwqJCDRf5-"
      }
    },
    {
      "cell_type": "markdown",
      "source": [
        "# INTRODUÇÃO\n",
        "\n",
        "---\n",
        "\n",
        "\n",
        "\n",
        "\n",
        "\n"
      ],
      "metadata": {
        "id": "jU58-hXmR4l2"
      }
    },
    {
      "cell_type": "markdown",
      "source": [
        "**Circuitos elétricos é a base da tecnologia atual.**\n",
        "--\n",
        "Exemplo de Circuito elétrico para ligar um carro <br>\n",
        "Figura 1.1 Circuito Elétrico para uma Ignição de Automóvel <br>\n",
        "<img src='https://i.imgur.com/WyOoTOJ.png'> <br>\n",
        "Fonte: Alexander, Charles K. <br>\n",
        "Como visto acima podemos montar um sistema de ignição de um carro apenas com\n",
        "o que vamos aprender ao longo do curso.\n",
        " O que vamos aprender? <br>\n",
        "Ao longo do curso iremos aprender principalmente como medir tensão\n",
        "e corrente em diversos circuitos, é claro que para isso temos muito\n",
        "a estudar. <br>\n",
        "<br>\n"
      ],
      "metadata": {
        "id": "9H1J1eJ4q5Wq"
      }
    },
    {
      "cell_type": "markdown",
      "source": [
        "**Carga e Corrente**\n",
        "--\n",
        "A carga é uma propriedade intrínseca da matéria, a carga compõe o átomo,\n",
        "cada átomo possue prótons e elétrons, ambos tem em módulo a mesma carga\n",
        "$1,6$x$10^{-19}$ Coulomb. Se for  elétron, essa carga será negativa, já o próton, positiva. <br>\n",
        "A relação que temos entre carga e corrente é com os operadores de derivação e integração. <br>\n",
        "Corrente elétrica é a fluxo de cargas que passam ao longo do tempo, medido em Ampére (A), então a carga é a integral da corrente, logo: <br>\n",
        "\n",
        "\n",
        "# 1.   $i$ = $\\frac{dq}{dt}$ = $[C]$$[s^{-1}]$ = $[A]$\n",
        "# 2.   $q$ = $\\int i dt$"
      ],
      "metadata": {
        "id": "bj1NBgRbqkcq"
      }
    },
    {
      "cell_type": "markdown",
      "source": [
        "**Tensão e Potência**\n",
        "--\n",
        "Diferença de potencial e força eletromotriz são nomes para tensão, tensão é basicamente a energia necessária para deslocar uma carga de um ponto A a um ponto B, analogamente a tensão V seria a derivada de energia por carga. Já potência é basicamente a taxa de variação da energia, ou seja, é a derivada da tensão pelo tempo, logo: <br>\n",
        "\n",
        "\n",
        "# 1.   $V_{ab}$ = $\\frac{dE}{dq}$ = $[J]$$[C^{-1}]$ = $[V]$\n",
        "# 2.   $P$ = $\\frac{dE}{dt}$ = $(\\frac{dE}{dq})(\\frac{dq}{dt})$ = $Vi$ = $[V][A]$ = $[W]$"
      ],
      "metadata": {
        "id": "Aj8v0f1wqyGZ"
      }
    },
    {
      "cell_type": "markdown",
      "source": [
        "**Dispositivos: modelos e convenções para potência**\n",
        "--\n",
        "Sabendo dos conceitos de carga, corrente, tensão e potência podemos finalmente compreender o funcionamento de um circuito elétrico. Basicamente um circuito elétrico fundamentalmente é formado de dispositivos que fornecem e gastam energia, os dispositivos fornecedores, geralmente são as fontes de tensão e corrente, já os que gastam energia podem ser os resistores, capacitores e indutores. <br>\n",
        "Pelas leis fundamentais da física não podemos ter energia infinita, logo em um circuito toda potência gasta tem que ser igual a potência fornecida, esse conceito é fundamental para o entendimento da convenção passiva. O conceito de convenção passiva é que o gerador de energia (bipolo ativo) determinará os polos do receptor de energia (bipolo passivo), como temos a notação de que a corrente flui do polo positivo da fonte, essa corrente irá determinar o polo dos bipolos passivos: <br><br>\n",
        "Figura 1.2 Associação de Bipolos <br>\n",
        "<img src='https://i.imgur.com/0brKGv7.png'> <br><br>\n",
        "Fonte: THÉ, GEORGE A. P. <br>\n",
        "Como visto na imagem acima a corrente está determinando o polo do resistor, assim temos que a potência do resistor é negativa, pois ele está absorvendo energia, pensando em uma fonte ela teria a potência positiva, pois estaria fornecendo energia. <br>\n",
        "Além desses conceitos, temos um conceito adicional de fontes dependentes, tais fontes dependem de alguma grandeza de outro dispositivo do circuito, como: <br><br> Figura 1.3 Fonte Dependente <br>\n",
        "<img src='https://i.imgur.com/2i2QFXN.png'> <br><br>\n",
        "Fonte: THÉ, GEORGE A. P. <br>\n",
        "Logo, a fonte de tensão dependente depende da tensão ou corrente em outro bipolo, na imagem acima a fonte de tensão depende da corrente que passa em C."
      ],
      "metadata": {
        "id": "wZmuK150qk1w"
      }
    },
    {
      "cell_type": "markdown",
      "source": [
        "**Exemplo 1.1** <br>\n",
        "Quanta carga é representada por 4.600 elétrons? e por 10 milhões de prótons?"
      ],
      "metadata": {
        "id": "nmF666w6DefP"
      }
    },
    {
      "cell_type": "code",
      "source": [
        "print(\"Exemplo 1.1\")\n",
        "carga_eletron = -1.6*10**(-19)\n",
        "numero_de_eletrons = 4600\n",
        "carga_total1 = carga_eletron * numero_de_eletrons\n",
        "print(\"A carga representada por\", numero_de_eletrons, \" elétrons é:\", carga_total1)\n",
        "carga_proton = -carga_eletron\n",
        "numero_de_protons = 10000000\n",
        "carga_total2 = carga_proton * numero_de_protons\n",
        "print(\"A carga representada por\", numero_de_protons, \" prótons é:\", carga_total2)"
      ],
      "metadata": {
        "colab": {
          "base_uri": "https://localhost:8080/"
        },
        "id": "bHEemDFSCv8W",
        "outputId": "559eaae8-8c8c-488e-8137-e4966959ce38"
      },
      "execution_count": null,
      "outputs": [
        {
          "output_type": "stream",
          "name": "stdout",
          "text": [
            "Exemplo 1.1\n",
            "A carga representada por 4600  elétrons é: -7.36e-16\n",
            "A carga representada por 10000000  prótons é: 1.6000000000000003e-12\n"
          ]
        }
      ]
    },
    {
      "cell_type": "markdown",
      "source": [
        "**Exemplo 1.2** <br>\n",
        "A carga total que entra num terminal é dada por q= 5t sen(4πt) mC. Calcule a corrente em t= 0.25 segundos."
      ],
      "metadata": {
        "id": "Ab_LPiWXFL9F"
      }
    },
    {
      "cell_type": "code",
      "source": [
        "print(\"Exemplo 1.2\")\n",
        "\n",
        "import numpy as np\n",
        "from sympy import *\n",
        "#agora é possível calcular derivadas e integrais\n",
        "t = symbols('t')\n",
        "q = 5*t*sin(4*np.pi*t)\n",
        "i = diff(q, t) #calcula a derivada de q em relação a t\n",
        "print(\"A função da corrente é\", i)\n",
        "print(\"A corrente no instante t=0.25 é \", i.subs(t,0.25))"
      ],
      "metadata": {
        "colab": {
          "base_uri": "https://localhost:8080/"
        },
        "id": "UqwkRczTFxLl",
        "outputId": "be4fdfff-3e54-4499-d571-60cd75ee87c5"
      },
      "execution_count": null,
      "outputs": [
        {
          "output_type": "stream",
          "name": "stdout",
          "text": [
            "Exemplo 1.2\n",
            "A função da corrente é 62.8318530717959*t*cos(12.5663706143592*t) + 5*sin(12.5663706143592*t)\n",
            "A corrente no instante t=0.25 é  -15.7079632679490\n"
          ]
        }
      ]
    },
    {
      "cell_type": "markdown",
      "source": [
        "**Exemplo 1.3**\n",
        "Determine a carga total que entra em um terminal entre t=0,5 s e t=2.5 s se a corrente que passa no terminal é i(t)= (3t<sup>2</sup>-t) A."
      ],
      "metadata": {
        "id": "vP0IM8DAGz5c"
      }
    },
    {
      "cell_type": "code",
      "source": [
        "print(\"Exemplo 1.3\")\n",
        "\n",
        "#Q = Sidt de t0 até t, onde S = operando de integral\n",
        "\n",
        "t = symbols('t') #define t como simbolo para operacoes em python\n",
        "i = 3*t**2 - t # em ampères\n",
        "Q = integrate(i, t)\n",
        "Q2 = integrate(i,(t,0.5,2.5))\n",
        "print(\"A função da carga é:\", Q)\n",
        "print(\"A carga total é:\", Q2)\n",
        " #Questão de Gustavo S.S"
      ],
      "metadata": {
        "colab": {
          "base_uri": "https://localhost:8080/"
        },
        "id": "6I46eh-HHeRM",
        "outputId": "a7b412c1-b209-4729-ff8c-2b282e4fcb7d"
      },
      "execution_count": null,
      "outputs": [
        {
          "output_type": "stream",
          "name": "stdout",
          "text": [
            "Exemplo 1.3\n",
            "Funcao integral indefinida de Q é: t**3 - t**2/2\n",
            "Resultado de t=1s até t=2s é, em Coulombs: 12.5000000000000\n"
          ]
        }
      ]
    },
    {
      "cell_type": "markdown",
      "source": [
        "**Exemplo 1.4** Um resistor, submetido à diferença de potencial de 8,0 V, é percorrido por uma corrente elétrica de intensidade i = 0,4 A. Determine:\n",
        "\n",
        "a) a potência dissipada por esse resistor;\n",
        "\n",
        "b) a potência dissipada por esse resistor quando ele é percorrido por uma corrente de intensidade i = 2,0 A, supondo que sua resistência seja constante."
      ],
      "metadata": {
        "id": "acAtxYq0eODn"
      }
    },
    {
      "cell_type": "code",
      "source": [
        "print(\"Exemplo 1.4\")\n",
        "ia = 0.4 #Corrente item a\n",
        "v = 8   #Tensão\n",
        "ib= 2   #Corrente item b\n",
        "r=v/ia\n",
        "pa= r*ia*ia\n",
        "pb = r*ib*ib\n",
        "print(\"a) Potencia dissipada:\", pa, \"W\")\n",
        "print(\"b) Potencia dissipada:\", pb, \"W\")\n",
        "#Questão de Gustavo S.S"
      ],
      "metadata": {
        "colab": {
          "base_uri": "https://localhost:8080/"
        },
        "id": "UrUgnBb-CLT4",
        "outputId": "fe19fe68-8ab1-4d3b-d2a2-aaf26ca02ec7"
      },
      "execution_count": null,
      "outputs": [
        {
          "output_type": "stream",
          "name": "stdout",
          "text": [
            "Exemplo 1.3\n",
            "a) Potencia dissipada: 3.2 W\n",
            "b) Potencia dissipada: 80.0 W\n"
          ]
        }
      ]
    },
    {
      "cell_type": "markdown",
      "source": [
        "**Exemplo 1.5** Três lâmpadas estão conectadas a uma bateria de 9V como mostrado na figura abaixo. Pede-se: a) Calcular a corrente total fornecida pela bateria. b) A corrente através de cada lâmpada. c) A resistência de cada lâmpada. <br>\n",
        "<div style=\"width=100%;margin=auto\"> <img src='https://i.imgur.com/KAoybWy.png'></div>"
      ],
      "metadata": {
        "id": "vV2ceGs-HvVX"
      }
    },
    {
      "cell_type": "code",
      "source": [
        "print(\"Exemplo 1.5\")\n",
        "v = 9  #tensão\n",
        "Ra= ((v*3/5)**2)/15  #lâmpada 15W\n",
        "Rb=  ((v*2/5)**2)/10 #lâmpada 10W\n",
        "Rc= (v**2)/20  #lâmpada 20W\n",
        "ic= v/Rc   #Corrente em C é definido por tensão dividido pela corrente\n",
        "#pois está em paralelo\n",
        "iab= v/(Ra+Rb)\n",
        "it= ic+iab\n",
        "print(\"a) Corrente total:\", it, \"A\")\n",
        "print(f\"b) Corrente em 15W e 10W é a mesma e vale {iab:.3f} A, já na lâmpada de 20W vale {ic:.3f} A\")\n",
        "print(f\"c) As resistências em 15 W, 10 W e 20W são, respectivamente: {Ra:.3f}Ω, {Rb:.3f}Ω e {Rc: .3f}Ω.\")\n",
        "#Questão de Gustavo S.S"
      ],
      "metadata": {
        "colab": {
          "base_uri": "https://localhost:8080/"
        },
        "id": "-GJrFU5cHumR",
        "outputId": "ddef8e91-55d7-434a-f8d7-4b068b9a2381"
      },
      "execution_count": null,
      "outputs": [
        {
          "output_type": "stream",
          "name": "stdout",
          "text": [
            "Exemplo 1.5\n",
            "a) Corrente total: 5.0 A\n",
            "b) Corrente em 15W e 10W é a mesma e vale 2.778 A, já na lâmpada de 20W vale 2.222 A\n",
            "c) As resistências em 15 W, 10 W e 20W são, respectivamente: 1.944Ω 1.296Ω e  4.050Ω.\n"
          ]
        }
      ]
    },
    {
      "cell_type": "markdown",
      "source": [
        "# SIMPLIFICAÇÃO DE CIRCUITOS <br>\n",
        "\n",
        "\n",
        "---\n",
        "\n",
        "Simplificar um problema é algo que todo o engenheiro deve conseguir fazer, por mais que o problema seja complexo, devemos modelar ele para que seja mais fácil a visualização e solução de tal problema. Como a disciplina de circuitos elétricos é basicamente uma disciplina de modelagem temos de ter esse princípio, então por mais que tenha inúmeros bipolos ativos e passivos temos que simplificar para ficar mais fácil de calcular as tensões e correntes utilizando a Lei de Ohm que diz que V=Ri.\n",
        "<br> <br>\n",
        "\n",
        "\n",
        "\n",
        "\n",
        "\n"
      ],
      "metadata": {
        "id": "RfG8vIVnm43g"
      }
    },
    {
      "cell_type": "markdown",
      "source": [
        "**Associação de Bipolos** <br>\n",
        "--\n",
        "Associar fontes e resistores é algo fundamental para a simplificação de circuitos, primeiro devemos aprender o básico que é associar resistores e depois vamos vendo as fontes de energia.\n",
        "\n",
        "1.   Resistores <br>\n",
        "Para associar resistores devemos ver se os resistores estão em série ou em paralelo: <br>\n",
        "Figura 2.1 Resistores em Série <br>\n",
        "<img src='https://i.imgur.com/qWJkwRB.png'> <br> Fonte: Alexander, Charles K. <br>\n",
        "Para diferenciar resistores em série e paralelo devemos ver se a energia vai da saída de um resistor para a entrada de outro resistor, como a figura acima é assim, esses 2 resistores estão em série, agora basta somar as resistências. Outro método de analisar se os resistores estão em série é se terá uma queda de tensão, ou seja, se os resistores não compartilham da mesma tensão.\n",
        "<br>\n",
        "Agora veremos como é um resistor em paralelo.\n",
        "<br> Figura 2.2 Resistores em paralelo <br> <img src='https://i.imgur.com/ij94m15.png'> <br> Fonte: Alexander, Charles K.<br>\n",
        "Percebemos na imagem acima que a os resistores estão ligados entrada em entrada e saída em saída, logo a corrente é dividida para cada um, o que tem menor resistência recebe mais corrente e o que tem a maior recebe a menor corrente, logo podemos utilizar a regra de que a resistência equivalente de resistores em paralelo é o inverso da soma dos inversos das resistências, ou o inverso da resistência equivalente é a soma dos inversos dos resistores.\n",
        "2.  Fontes <br>\n",
        "Para fontes existem algumas regras. Primeiro falaremos de fontes de corrente, as fontes de corrente podem ser associadas em série e em paralelo, porém em série elas só podem ter o mesmo módulo e em série elas podem ter módulos diferentes, se for em paralelo vamos somar ou subtrair depende do sentido que as fontes estão, já em série com o mesmo módulo basta ter apenas uma fonte de corrente. Agora quando pensamos em fonte de tensão é a mesma ideia só que ao contrário, fontes de tensão em paralelo precisam ter o mesmo módulo e ai substituímos por apenas uma e em série podemos ter várias e subtraímos ou somamos dependendo do sentido. <br> Figura 2.3 Associação de Fontes <br>\n",
        "<img src='https://i.imgur.com/CYJL0Vi.png'> <br>\n",
        "Fonte: THÉ, GEORGE A. P. <br>\n",
        "Como visto na imagem acima, não podemos associar fontes de tensão de módulo diferente em paralelo e nem fontes de corrente de módulo diferente em série. <br> <br>"
      ],
      "metadata": {
        "id": "h2dgmSBLA-Yk"
      }
    },
    {
      "cell_type": "markdown",
      "source": [
        "**Leis de Kirchhoff** <br>\n",
        "--\n",
        "As Leis de Kirchhoff regem todo o conceito de circuitos elétricos em si, pois ela é uma aplicação física da famosa primeira lei da termodinâmica, que diz que a energia sempre se conversa e se transforma. Esse conceito pode ser aplicado ao um circuito elétrico, conhecemos esse conceito como Lei das Malhas e Lei dos Nós.\n",
        "\n",
        "1.   Lei das Malhas <br>\n",
        "A lei das malhas diz que em um circuito fechado onde você percorre em um ponto e termina no mesmo ponto sem repetir nenhum trajeto a soma das tensões fornecidas e gastas da zero, logo não podemos criar tensão. <br>\n",
        "Figura 2.4 Lei das Malhas <br>\n",
        "<img src='https://i.imgur.com/KHqIrlm.png'>\n",
        "<br> Fonte: Alexander, Charles K.. <br>\n",
        "Ao analisarmos a Figura 2.4 percebemos ao somarmos as tensões nessa malha temos um valor zero, logo podemos usar a Lei de Ohm, que diz que a tensão no resistor é Resistência vezes Corrente. <br>\n",
        "2.   Lei dos nós <br>\n",
        "A lei dos Nós tem a mesma ideia da Lei das Malhas, porém teremos que em um ponto a todas as correntes que entram é igual as correntes que saem, logo o somatório das correntes em um ponto (nó) é zero.\n",
        "<br>Figura 2.5 Lei dos Nós <br>\n",
        "<img src='https://i.imgur.com/nTdRsNU.png'> <br>\n",
        "Fonte: Alexander, Charles K..\n",
        "<br> Ao Analisarmos a figura 2.5 notamos que a corrente i<sub>1</sub> é igual i<sub>2</sub> mais i<sub>3</sub>.\n",
        "Utilizando dessas duas leis básicas geralmente teremos um sistema de equações para resolver e assim resolvermos nosos problema.  <br>\n",
        "3. Supermalha e Supernó<br>\n",
        "O conceito de Supermalha e Supernó são bem semelhantes, o Supernó é quando temos uma fonte de tensão concectada a dois nós que não são os de referência, nós de referência geralmente são aqueles que você sabe exatamente a tensão, com essa fonte de tensão conectada a dois nós saberemos a diferença de potencial entre esses nós, agora basta supor que ela não exista e resolver o circuito sem ela, usando apenas essa fonte de tensão como uma equação auxiliar que nos diz a diferença de pontencial entre esses dois nós.<br>\n",
        " Agora uma Supermalha é quando temos uma fonte de corrente entre duas malhas, assim como no Supernó iremos utilizar essa corrente como uma equação auxiliar dizendo que algo relacionado ao somatório das correntes naquele nó e resolvemos o circuito sem a presença desse ramo. <br>\n",
        " Figura 2.6 Supernó <br>\n",
        " <img src='https://i.imgur.com/fxm6xkO.png'>\n",
        " <br> Fonte: THÉ, GEORGE A. P. <br>\n",
        "Figura 2.7 Supermalha <br>\n",
        "<img src='https://i.imgur.com/fIz34so.png'>\n",
        "<br> Fonte: THÉ, GEORGE A. P. <br>\n",
        "Analisando ambas as figuras percebemos que para a Figura 2.6 no caso do supernó nossa equação auxiliar será $V_1-V_2=12$ e para a Figura 2.7 nossa equação auxiliar será $I_1-I_2=4A$."
      ],
      "metadata": {
        "id": "fpKB8YxOArkf"
      }
    },
    {
      "cell_type": "markdown",
      "source": [
        "**Exemplo 2.1** Determine v<sub>1</sub> e v<sub>2</sub> no circuito da figura a seguir: <br> <img src='https://i.imgur.com/mghKyIX.png'>"
      ],
      "metadata": {
        "id": "fJ6v5B5J0hBv"
      }
    },
    {
      "cell_type": "code",
      "source": [
        "import numpy as np\n",
        "from sympy import *\n",
        "\n",
        "print(\"Exemplo 2.1\")\n",
        "\n",
        "V=2\n",
        "C1=7\n",
        "C2=2\n",
        "r1=2\n",
        "r2=4\n",
        "r3=10\n",
        "#Como temos uma fonte de tensão em dois nós podemos aplicar o supernó\n",
        "#Assim o resistor de 10 ohm não faz diferença, assim sabemos a diferença de potencial\n",
        "#entres os pontos que queremos saber, no caso vale 2V v2-v1\n",
        "#Logo pensamos que não existe a fonte de tensão de 2V e o resistor de 10ohm,\n",
        "#no lugar deles existe um fio que liga v1 a v2, então podemos aplicar LKN nesse supernó ficando assim:\n",
        "# C2=i1+i2++C1  sendo i1 e i2 as correntes que passam nos resistores 1 e 2.\n",
        "#como i1= (v1-0)/2 e i2=(v2-0)/2 teremos\n",
        "#8=2v1+v2+28   como v2=2+v1 temos v1=-7.3333 e v2=2+(-7.333)\n",
        "v1 = -22/3\n",
        "v2 = v1 + 2\n",
        "\n",
        "print(\"V1:\", v1, \"V\")\n",
        "print(\"V2:\", v2, \"V\")"
      ],
      "metadata": {
        "id": "h7xa-4N8Ar9E",
        "colab": {
          "base_uri": "https://localhost:8080/"
        },
        "outputId": "79171b6d-46ef-4dee-e786-598da9e9f280"
      },
      "execution_count": null,
      "outputs": [
        {
          "output_type": "stream",
          "name": "stdout",
          "text": [
            "Exemplo 2.1\n",
            "V1: -7.333333333333333 V\n",
            "V2: -5.333333333333333 V\n"
          ]
        }
      ]
    },
    {
      "cell_type": "markdown",
      "source": [
        "**Exemplo 2.2** Determine as tensões nodais no circuito a seguir:\n",
        "<br> <img src='https://i.imgur.com/PJjEZtw.png'>"
      ],
      "metadata": {
        "id": "kisdJ5Vu5QOn"
      }
    },
    {
      "cell_type": "markdown",
      "source": [
        "Para esse exemplo 2.4 teremos novamente o supernó, e teremos o seguinte circuito após aplicar tal teorema:\n",
        "<br> <img src='https://i.imgur.com/ykVYbur.png'>"
      ],
      "metadata": {
        "id": "2pJxYa0l6HNm"
      }
    },
    {
      "cell_type": "code",
      "source": [
        "print(\"Exemplo 2.2\")\n",
        "\n",
        "import numpy as np\n",
        "\n",
        "R1 =2\n",
        "R2 = 10\n",
        "R3 = 4\n",
        "R4 = 1\n",
        "Rvx = 3\n",
        "\n",
        "#i1 = v1/R1 = v1/2\n",
        "#i2 = (v2 - v3)/R2 = (v2 - v3)/6\n",
        "#i3 = v3/R3 = v3/4\n",
        "#i4 = v4/R4 = v4\n",
        "#ix = vx/Rvx = vx/3\n",
        "#i1 + i2 + ix = 10\n",
        "#i2 + ix = i3 + i4\n",
        "#(v1 - v2) = 20\n",
        "#(v3 - v4) = 3vx\n",
        "#(v1 - v4) = vx\n",
        "#(v2 - v3) = vx - 3vx - 20 = -2vx - 20\n",
        "#v1/2 + (-2vx - 20)/6 + vx/3 = 10 => v1/2 = 40/3\n",
        "v1 = 80/3\n",
        "v2 = v1 - 20\n",
        "#v3 - v4 -3vx = 0\n",
        "#-v4 - vx = -80/3\n",
        "#-3v4 -3vx = -80\n",
        "#-v3 + 2vx = - 80/3\n",
        "#-3v3 + 6vx = -80\n",
        "#i2 + ix = i3 + i4\n",
        "#(v2 - v3)/6 + vx/3 = v3/4 + v4\n",
        "#-5v3/12 -v4 + vx/3 = -10/9\n",
        "#-15v3 -36v4 + 12vx = -40\n",
        "A= np.matrix('1 -1 -3;0 -3 -3;-15 -36 12')\n",
        "B= np.matrix('0;-80;-40')\n",
        "V = np.linalg.inv(A)*B\n",
        "#10/9 - (20/3 + 2vx + 20)/6 + vx/3 = (20/3 + 2vx + 20)/4 + 80/3 - vx\n",
        "#7vx/6 = -10/3 + 5/3 + 5 + 80/3\n",
        "#7vx/6 = 30\n",
        "vx = 180/7\n",
        "v4 = v1 - vx\n",
        "v3 = v2 + 2*vx + 20\n",
        "print(\"V1\", v1, \"V\")\n",
        "print(\"V2\", v2, \"V\")\n",
        "print(\"V3\", V[0], \"V\")\n",
        "print(\"V4\", V[1], \"V\")\n",
        "print(\"Vx\", V[2], \"V\")"
      ],
      "metadata": {
        "colab": {
          "base_uri": "https://localhost:8080/"
        },
        "id": "jNVgtdcD5phe",
        "outputId": "de919542-37b0-4b65-f42e-5cd3a5f60433"
      },
      "execution_count": null,
      "outputs": [
        {
          "output_type": "stream",
          "name": "stdout",
          "text": [
            "Exemplo 2.2\n",
            "V1 26.666666666666668 V\n",
            "V2 6.666666666666668 V\n",
            "V3 [[173.33333333]] V\n",
            "V4 [[-46.66666667]] V\n",
            "Vx [[73.33333333]] V\n"
          ]
        }
      ]
    },
    {
      "cell_type": "markdown",
      "source": [
        "**Exemplo 2.3** Determinei<sub>1</sub> e i<sub>4</sub> <br>\n",
        "<img src='https://i.imgur.com/KlT9IOm.png'>"
      ],
      "metadata": {
        "id": "cwhh1daq7jy9"
      }
    },
    {
      "cell_type": "code",
      "source": [
        "print(\"Exemplo 2.3\")\n",
        "import numpy as np\n",
        "\n",
        "#Supermalha\n",
        "# 2i1 + 4i3 + 8(i3 - i4) + 6i2 = 0\n",
        "# i1 + 3i2 + 6i3 + 4i4 = 0\n",
        "# i2 = i1 - 5\n",
        "# i2 = i3 + 3i0\n",
        "#i2 - i1 = 5 => i1 = i2 - 5\n",
        "#i2 - 5 + 3i2 + 6(i2 - 3i0) + 4i0 = 0\n",
        "#10i2 - 14i0 = 5\n",
        "#Usando a malha 4\n",
        "# 2i4 + 8(i4 - i3) + 10 = 0\n",
        "# 5i4 -4i3 = -5\n",
        "#-4(i2 - 3i0) - 5i0 = -5\n",
        "#-4i2 + 7i0 = -5\n",
        "\n",
        "A= np.matrix(\"10 -14; -4 7\")\n",
        "B= np.matrix(\"5;-5\")\n",
        "i = np.linalg.inv(A)*B\n",
        "i1 = i[0] - 5\n",
        "i4 = -i[1]\n",
        "print(\"Corrente i1:\",i1,\"A\")\n",
        "print(\"Corrente i4:\",i4,\"A\")\n"
      ],
      "metadata": {
        "id": "DtURhM487jSW",
        "colab": {
          "base_uri": "https://localhost:8080/"
        },
        "outputId": "d6c11a05-6bd8-414f-a6b5-cf2cc781e044"
      },
      "execution_count": null,
      "outputs": [
        {
          "output_type": "stream",
          "name": "stdout",
          "text": [
            "Exemplo 2.3\n",
            "Corrente i1: [[-7.5]] A\n",
            "Corrente i4: [[2.14285714]] A\n"
          ]
        }
      ]
    },
    {
      "cell_type": "markdown",
      "source": [
        "\n",
        "**Teorema da Superposição** <br>\n",
        "--\n",
        "De acordo com Charles K. Alexander, o princípio da superposição afirma que a tensão (ou a corrente) em um\n",
        "elemento em um circuito linear é a soma algébrica da soma das tensões\n",
        "(ou das correntes) naquele elemento em virtude da atuação isolada de cada\n",
        "uma das fontes independentes. Então temos três passos a serem cumpridos para executar tal teorema. <br>\n",
        "\n",
        "1.   Desativar todos as fontes independentes, deixando apenas uma. Para desativar uma fonte de corrente a substitua por um circuito aberto, se for desativar uma fonte de tensão a substitua por um curto circuito. Após desativada as fontes resolva o circuito considerando apenas a fonte restante.\n",
        "<br> Figura 2.8 Desativar Fontes <br>\n",
        "<img src='https://i.imgur.com/ydJW9Q3.png'>\n",
        " <br>\n",
        " Fonte: THÉ, GEORGE A. P.\n",
        "2.   Repita o passo 1 para as demais fontes.\n",
        "3. Para encontrar a contribuição total some algebricamente todas as contribuições em função das fontes independentes.\n"
      ],
      "metadata": {
        "id": "TZ3w02p1AsTE"
      }
    },
    {
      "cell_type": "markdown",
      "source": [
        "**Exemplo 2.4** Encontre v utilizando o teorema da superposição. <br>\n",
        "<img src='https://i.imgur.com/lWlE25m.png'>"
      ],
      "metadata": {
        "id": "vAQEVkGcSm_b"
      }
    },
    {
      "cell_type": "code",
      "source": [
        "print(\"Exemplo 2.4\")\n",
        "import numpy as np\n",
        "\n",
        "R1=8\n",
        "Rv=4\n",
        "Ft=6\n",
        "Fc=3\n",
        "#v= v1+v2\n",
        "#Primeiro iremos isolar a fonte de tensão, transformando a fonte de corrente em um circuito aberto\n",
        "#logo teremos um circuito onde é possivel calcular v1\n",
        "#usando o divisor de tensão que é bem simples Vx= (Rx/Req)E\n",
        "#Onde Vx é a tensão no resistor que eu quero, Rx a resistência dele\n",
        "#Req a resistência equivalente e E a tensão que atua sobre a resistência equivalente\n",
        "\n",
        "v1= Ft*(Rv/(R1+Rv))\n",
        "\n",
        "#Agora para achar v2 transformamos a fonte de tensão em um curto circuito, que no caso é um fio de resistência nula\n",
        "#Logo ficamos com um divisor de corrente que é basicamente\n",
        "# Ix= (Req/Rx)I\n",
        "#Onde Ix é a corrente que passa no meu resistor que eu quero, Req a resitência equivalente\n",
        "# Rx a resistência do meu resistor que eu quero saber a corrente nele e I a corrente total\n",
        "Req= 1/((1/R1)+(1/Rv))\n",
        "iv2= Fc*(Req/Rv)\n",
        "v2= Rv*iv2\n",
        "\n",
        "v=v1+v2\n",
        "\n",
        "print(\"A tensão no resistor é\", v, \"V\")\n"
      ],
      "metadata": {
        "colab": {
          "base_uri": "https://localhost:8080/"
        },
        "id": "oNpG5rs_S-z7",
        "outputId": "d341630b-3972-42e3-b2c3-789a52006a1b"
      },
      "execution_count": null,
      "outputs": [
        {
          "output_type": "stream",
          "name": "stdout",
          "text": [
            "Exemplo 2.4\n",
            "A tensão no resistor é 10.0 V\n"
          ]
        }
      ]
    },
    {
      "cell_type": "markdown",
      "source": [
        "**Exemplo 2.5** Utilize o teorema da superposição para determinar *i* <br>\n",
        "<img src='https://i.imgur.com/xsnjWxF.png'>"
      ],
      "metadata": {
        "id": "p6vNv6VUVNTE"
      }
    },
    {
      "cell_type": "code",
      "source": [
        "print(\"Exemplo 2.5\")\n",
        "import numpy as np\n",
        "\n",
        "r1=8\n",
        "r2=4\n",
        "r3=4\n",
        "rx=3\n",
        "ft1=24\n",
        "ft2=12\n",
        "fc=3\n",
        "\n",
        "#Sabemos que i= i1 + i2 + i3 logo i1 é referente a ft1, i2 a ft2 e i3 a fc\n",
        "#fazendo o teorema da superposição para ft1 ficamos com\n",
        "req= 1/((1/r2)+(1/rx))\n",
        "itotal= ft1/(r1+r3+req)\n",
        "i1= itotal*(req/rx)\n",
        "#Porém i1 tem sentido contrário a i, logo i1 é negativo\n",
        "i1=-i1\n",
        "\n",
        "#Agora para ft2\n",
        "req= 1/((1/(r1+r3))+(1/r2))\n",
        "i2= ft2/(req+rx)\n",
        "\n",
        "#Por fim com fc\n",
        "#3= v2/8 + (v2-v1)/4\n",
        "#24 = 3v2 - 2v1\n",
        "\n",
        "#(v2-v1)/4 = v1/4 + v1/3 => v2= 10v1/3\n",
        "\n",
        "#v1 = 3 logo,\n",
        "v1=3\n",
        "i3= v1/3\n",
        "\n",
        "i= i1+i2+i3\n",
        "print(\"A corrente i é\", i, \"A\")\n",
        "\n",
        "\n"
      ],
      "metadata": {
        "colab": {
          "base_uri": "https://localhost:8080/"
        },
        "id": "g6IOyjPxVqYa",
        "outputId": "290c86e0-d74d-47c6-9832-6eb43236c311"
      },
      "execution_count": null,
      "outputs": [
        {
          "output_type": "stream",
          "name": "stdout",
          "text": [
            "Exemplo 2.5\n",
            "A corrente i é 2.0 A\n"
          ]
        }
      ]
    },
    {
      "cell_type": "markdown",
      "source": [
        "**Conversão de Fonte** <br>\n",
        "--\n",
        "Converter fontes é essencial para análise de cirucitos, pois podemos converter fontes de tensão para corrente e de corrente para tensão com um simples passo, isso é essencial para simplificação, pois podemos desse jeito associar fontes que antes não era possível.<br>\n",
        "Podemos converter fontes aplicando a lei de ohm, desde que o circuito haja equivalência elétrica, logo, se temos um circuito com uma fonte de tensão em série com um resistor podemos aplicar lei de ohm e transformar num circuito equivalente em que uma fonte de corrente esteja em paralelo com esse mesmo resistor, já para transformar uma fonte de corrente para tensão precisa que a fonte de corrente esteja em paralelo com o resistor e daí colocamos uma fonte de tensão em série com esse mesmo resistor.\n",
        "<br>\n",
        "Figura 2.9 Conversão de Fontes <br>\n",
        "<img src='https://i.imgur.com/LpasW9g.png'>\n",
        "<br> Fonte: THÉ, GEORGE A. P.\n",
        "<br>\n",
        "Na figura 2.9 temos que $v_S=Ri_S$ ou $i_S=\\frac{v_S}{R}$, logo é uma aplicação simples de Lei de Ohm.\n",
        "\n",
        "\n"
      ],
      "metadata": {
        "id": "1cl1H0v_e5-K"
      }
    },
    {
      "cell_type": "markdown",
      "source": [
        "**Teorema de Thévenin e Norton**\n",
        "--\n",
        "Segundo Charles K. Alexander, o teorema de Thévenin afirma que um circuito linear de dois terminais\n",
        "pode ser substituído por um circuito equivalente formado por uma fonte\n",
        "de tensão $V$<sub>Th</sub> em série com um resistor $R$<sub>Th</sub>, onde $V$<sub>Th</sub> é a tensão de circuito aberto nos terminais e $R$<sub>Th</sub>, a resistência de entrada ou equivalente nos\n",
        "terminais quando as fontes independentes forem desativadas.\n",
        "<br>\n",
        "Então temos que considerar dois casos, o primeiro caso é se o circuito não apresentar fontes dependentes, primeiro desligamos as fontes, seguindo o mesmo procedimento do Teorema da superposição, fontes de tensão viram curto circuitos e de corrente circuitos abertos, daí vamos calcular a resistência equivalente do circuito em relação ao nosso terminal de referência, após isso calculamos a tensão nesses terminais utilizando os teoremas aprendidos anteriormente. <br>\n",
        "Se o circuito tiver fontes dependentes é um pouco mais complicado, Charles K. Alexander diz que se a rede tiver fontes dependentes, desligamos todas as fontes\n",
        "independentes. Pelo teorema da superposição, as fontes dependentes não devem ser desligadas, pois elas são controladas por variáveis de circuito. Aplicamos uma tensão vo aos terminais $a$ e $b$, e determinamos a corrente resultante\n",
        "$i$<sub>o</sub>. Então, $R_{Th} = \\frac{v_o}{i_o}$. De forma alternativa,\n",
        "poderíamos inserir uma fonte de corrente io nos terminais $a$ e $b$, e encontrar a tensão entre os terminais $v$<sub>o</sub>. Chegamos novamente a\n",
        "$R_{Th} = \\frac{v_o}{i_o}$. Qualquer um dos dois métodos leva ao mesmo resultado. Em ambos os métodos, podemos supor qualquer valor de $v$<sub>o</sub> e $i$<sub>o</sub>. Poderíamos usar,\n",
        "por exemplo, $v$<sub>o</sub> = 1 V ou $i$<sub>o</sub> = 1 A, ou até mesmo valores não especificados\n",
        "de $v$<sub>o</sub> ou $i$<sub>o</sub>. <br>\n",
        "Já o Teorema de Norton é basicamente uma aplicação do teorema de Thévenin, porém agora para fontes de corrente, se soubermos resolver o circuito utilizando Thévenin podemos apenas aplicar a conversão de fontes e achar o simplificado de Norton ou podemos utilizar o método para encontrar o simplificado de Norton. <br>\n",
        "O método para encontrar o simplificado de Norton é bem simples, para achar a resistência é igual o de Thévenin, agora para encontrar a corrente iremos aplicar um curto circuito no terminal de interesse e iremos calcular essa corrente de curto circuito chamada $I$<sub>cc</sub>. <br>\n",
        "\n",
        "Por fim temos outro teorema relacionado a Thévenin e Norton que é o Teorema da Máxima Transfêrencia de Potência. Quando queremos colocar uma carga em um circuito temos que calcular geralmente o simplificado de Thévenin, com esse resultado temos em mente que se quisermos transferir a potência máxima de nosso circuito para nossa carga temos que colocar uma carga com a mesma resistência da nossa resistência de Thévenin, pois o gráfico da transferência de potência funciona assim:\n",
        "<br> Figura 2.10 Gráfico da Transferência de Potência <br>\n",
        "<img src='https://i.imgur.com/BvtmmGS.png'> <br>\n",
        "Fonte: Alexander, Charles K. <br>\n",
        "Logo se queremos encontrar qual valor dessa potência máxima vamos utilizar a equação $P$<sub>max</sub> =  $\\frac{V^2_{Th}}{4R_{Th}}$"
      ],
      "metadata": {
        "id": "3bEne6H0elVb"
      }
    },
    {
      "cell_type": "markdown",
      "source": [
        "**Exemplo 2.6** Encontre V<sub>Th</sub> e R<sub>th</sub> do seguinte circuito:\n",
        "<br> <img src='https://i.imgur.com/PwJIqQv.png'>"
      ],
      "metadata": {
        "id": "8Xn3DUGjnYgA"
      }
    },
    {
      "cell_type": "code",
      "source": [
        "print(\"Exemplo 2.6\")\n",
        "import numpy as np\n",
        "\n",
        "r1=4\n",
        "r2=12\n",
        "r3=1\n",
        "ft=12\n",
        "fc=2\n",
        "\n",
        "\n",
        "#Primeiro vamos encontrar Rth desligando as fontes, logo:\n",
        "rth= 1/((1/r1)+(1/r2)) + 1\n",
        "#Agora iremos encontrar vth\n",
        "#Temos a malha 1 e malha 2, malha 1 com r1 r2 e ft e malha 2 com fc e r2\n",
        "# malha 1 ficamos com -32 + 4i1+ 12(i1-i2)=0 => i2= -fc\n",
        "# 16i1= 32-24 => i1= 8/16 => i1=0.5\n",
        "i1= 1/2\n",
        "i2= -fc\n",
        "vth= r2*(i1-i2)\n",
        "In= vth/rth\n",
        "\n",
        "print(\"A resistncia de thévenin é \", rth, \"Ω\")\n",
        "print(\"A tensão de thevenin é \", vth, \"V\")\n",
        "print(\"A corrente de norton é\", In, \"A\")"
      ],
      "metadata": {
        "colab": {
          "base_uri": "https://localhost:8080/"
        },
        "id": "7YNUZMEXn6VI",
        "outputId": "de6018ce-830f-469b-d76a-4e4baa40a69d"
      },
      "execution_count": null,
      "outputs": [
        {
          "output_type": "stream",
          "name": "stdout",
          "text": [
            "Exemplo 2.6\n",
            "A resistncia de thévenin é  4.0 Ω\n",
            "A tensão de thevenin é  30.0 V\n",
            "A corrente de norton é 7.5 A\n"
          ]
        }
      ]
    },
    {
      "cell_type": "markdown",
      "source": [
        "**Exemplo 2.7** Calcule R<sub>th</sub> e V<sub>th</sub> do seguinte circuito:\n",
        "<br>\n",
        "<img src='https://i.imgur.com/XJK89vQ.png'>"
      ],
      "metadata": {
        "id": "KSmVJRiZqc7Z"
      }
    },
    {
      "cell_type": "code",
      "source": [
        "print(\"Exemplo 2.7\")\n",
        "import numpy as np\n",
        "\n",
        "\n",
        "#Desligamos as fontes independentes e deixamos apenas as dependentes\n",
        "#Colocamos uma tensão v0 qualquer nos terminais de interesse\n",
        "#v0 = 1 V\n",
        "\n",
        "#Agora analisamos as malhas\n",
        "#-2Vx + 2(i1 - i2) = 0\n",
        "#Vx = i1 - i2\n",
        "#Vx = -4i2\n",
        "#i1 + 3i2 = 0\n",
        "\n",
        "#-Vx + 2(i2 - i1) + 6(i2 - i3) = 0\n",
        "#2i2 - 2i1 + 6i2 - 6i3 = Vx\n",
        "#-3i1 + 9i2 - 6i3 = 0\n",
        "#-i1 + 3i2 - 2i3 = 0\n",
        "\n",
        "#V0 + 6(i3 - i2) + 2i3 = 0\n",
        "#6i3 - 6i2 + 2i3 = -1\n",
        "#-6i2 + 8i3 = -1\n",
        "\n",
        "A= np.matrix(\"1 3 0;-1 3 -2;0 -6 8\")\n",
        "B= np.matrix(\"0;0;-1\")\n",
        "I = np.linalg.inv(A)*B\n",
        "#i3 = -i0\n",
        "i0 = -I[2]\n",
        "#Rth = V0/i0\n",
        "Rth = 1/i0\n",
        "print(\"A resistência de thévenin é\",Rth,\"Ω\")\n",
        "\n",
        "#Agora vamos encontrar Vth\n",
        "\n",
        "#analisando as malhas\n",
        "#i1 = 5 A\n",
        "#-2Vx + 2(i2 - i3) = 0\n",
        "#Vx = i2 - i3\n",
        "#Vx = 4(5 - i3) = 20 - 4i3\n",
        "#i2 + 3i3 = 20\n",
        "\n",
        "#4(i3 - 5) + 2(i3 - i2) + 6i3 = 0\n",
        "#4i3 +2i3 - 2i2 + 6i3 = 20\n",
        "#-2i2 + 12i3 = 20\n",
        "#-i2 + 6i3 = 10\n",
        "\n",
        "C= np.matrix(\"1 3;-1 6\")\n",
        "D= np.matrix(\"20;10\")\n",
        "I= np.linalg.inv(C)*D\n",
        "Vth= 6*I[1]\n",
        "In= Vth/Rth\n",
        "print(\"A tensão de thévenin é\",Vth,\"V\")\n",
        "print(\"A corrente de Norton é\",In,\"A\")"
      ],
      "metadata": {
        "colab": {
          "base_uri": "https://localhost:8080/"
        },
        "id": "FQiefIeRq33g",
        "outputId": "8fd0d507-85da-4e54-9a07-82aef433af14"
      },
      "execution_count": null,
      "outputs": [
        {
          "output_type": "stream",
          "name": "stdout",
          "text": [
            "Exemplo 2.7\n",
            "A resistência de thévenin é [[6.]] Ω\n",
            "A tensão de thévenin é [[20.]] V\n",
            "A corrente de Norton é [[3.33333333]] A\n"
          ]
        }
      ]
    },
    {
      "cell_type": "markdown",
      "source": [
        "# Capacitores e Indutores\n",
        "\n",
        "Os capacitores e indutores não são iguais aos resistores, como visto anteriormente os resistores funcionam de maneira linear, seguindo a lei de Ohm, já os capacitores e indutores não operam de maneira linear, pois funcionam da seguinte maneira:\n",
        "\n",
        "\n",
        "1.   Capacitor <br>\n",
        "$Q$<sub>C</sub>=$CV$<sub>C</sub>, como trabalhamos com corrente temos de derivar em relação ao tempo a equação que da a carga do capacitor ficando: $i$<sub>C</sub>=$C$ $\\frac{dV_C}{dt}$.\n",
        "2.   Indutor <br>\n",
        "Para os indutores é o mesmo procedimento, temos que a equação que rege o indutor é $Φ$<sub>L</sub>=$Li_L$, logo derivamos em relação ao tempo e teremos $V$<sub>L</sub>=$L \\frac{di_L}{dt}$. <br>\n",
        "\n",
        "Então ao associarmos capacitores em um circuito teremos um funcionamento diferencial, podendo ser resolvido utilizando equações diferenciais, logo nossos problemas serão mais complexos, se tivermos apenas resistores associados a um capacitor ou indutor o problema será de primeira ordem, pois teremos uma EDO de primeira ordem, já se o circuito apresentar um indutor e um capacitor ou dois indutores ou capacitores que não possam ser associados, nosso problema daí será de segunda ordem tendo uma EDO de grau 2 a ser resolvida.\n",
        "\n"
      ],
      "metadata": {
        "id": "JM1o5Nb2nY_y"
      }
    },
    {
      "cell_type": "markdown",
      "source": [
        "**Circuito RC e RL**\n",
        "--\n",
        "A primeira coisa que devemos saber quando associamos um capacitor ou indutor com um resistor em um circuito é que o capacitor e indutor são armazenadores de energia, o capacitor armazena energia na forma de campo elétrico e o indutor na forma de campo magnético, quando carregamos um capacitor ele irá operar como um circuito aberto, já o indutor magnetizado opera como um curto circuito. <br>\n",
        "Tudo que falamos para circuito RC funciona basicamente da mesma maneira no circuito RL, então falaremos tudo sobre circuito RC e depois falamos o que muda no RL. <br>\n",
        "Primeiro passo para entender a associação RC é ver o comportamento ao longo do tempo do capacitor, quando temos um circuito sem fonte com o capacitor primeiramente carregado, se analisarmos o circuito ao longo do tempo iremos perceber que no infinito o capacitor irá se descarregar totalmente, pois o resistor irá consumir toda a energia. <br>\n",
        "Então teremos $v_C(0)=V_0$ e daí podemos aplicar a lei de kirchoff dos nós no circuito, assim como o seguinte exemplo: <br>\n",
        "Figura 3.1 Circuito RC sem fonte <br>\n",
        "<img src='https://i.imgur.com/mTAxdlP.png'> <br> Fonte: Alexander, Charles K. <br>\n",
        "No exemplo da figura 3.1 podemos aplicar LKN no nó e teremos que a corrente $i_C$ mais a corrente $i_R$ vale zero, logo teremos: <br>\n",
        "$C\\frac{dv}{dt} + \\frac{v}{R} = 0 => \\frac{dv}{dt} + \\frac{v}{RC} = 0$ <br>\n",
        "Então podemos resolver essa EDO tendo a resposta: <br>\n",
        "$v(t)$ = $V_0$$e^{-\\frac{t}{RC}}$\n"
      ],
      "metadata": {
        "id": "-2AEO3jCy1O2"
      }
    },
    {
      "cell_type": "markdown",
      "source": [
        "Sendo $τ = RC$, então podemos reescrever como $v(t) = V_0e^{-\\frac{t}{τ}}$. <br>\n",
        "Quando temos o tempo $t = τ$ a tensão será reduzida aproximadamente para 36,8%, isso é de extrema importância, pois em aproximadamente $t = 5τ$ o circuito terá dissipado quase toda a tensão. Para o circuito RL sem fonte teremos a resposta em função da corrente e nosso $τ = \\frac{L}{R}$ e nossa resposta natural como $i(t) = I_0e^{-\\frac{t}{τ}}$, sendo $I$<sub>0</sub> a corrente inicial do indutor. <br>\n",
        "Agora quando falamos de circuitos com fonte temos a resposta degrau do circuito, novamente falaremos primeiramente sobre o circuito RC com fonte, depois iremos falar o que muda para o RL. <br>\n",
        "Figura 3.2 Circuito RC com fonte <br>\n",
        "<img src='https://i.imgur.com/DuVUyne.png'> <br>\n",
        "Fonte: Alexander, Charles K. <br>\n",
        "Quando olhamos para  a Figura 3.2 o primeiro passo é analisar a tensão no capacitor no tempo antes da chave fechar, nesse caso vamos supor que a tensão no capacitor seja $V_0$, no instante que a chave fecha essa tensão é conservada logo $v(0^-) = v(0^+) = V_0$, então iremos aplicar LKN e teremos:<br>\n",
        "$C \\frac{dv}{dt} + \\frac{v}{R} = V_S => \\frac{dv}{dt} + \\frac{v}{RC} = \\frac{V_S}{C}$ <br>\n",
        "Quando resolvemos essa EDO teremos um pequeno sistema: <br>\n",
        "$v(t) = V_0$ para $t < 0$ e $v(t)$ = $V_S + (V_0 - V_S)e^{-\\frac{t}{τ}}$<br>\n",
        "Se generalizamos a equação para os tempos de transição e o tempo no infinito teremos que a solução degrau para o circuito RC é $v(t) = V_C(t_∞) + (V_C(t_0) - V_C(t_∞))e^{-\\frac{t}{τ}}$. <br>\n",
        "Quando pensamos no circuito RL teremos pequenas mudanças, assim como visto antes o circuito RL geralmente se resolve em função da corrente logo a resposta degrau dele é: <br>\n",
        " $i(t) = i_L(t_∞) + (i_L(t_0) - i_L(t_∞))e^{-\\frac{t}{τ}}$. <br>\n",
        " Podemos também generalizar para qualquer problema de primeira ordem se soubermos encontrar os tempos de transição nossa resposta sempre será na forma de:\n",
        " $x(t) = x(t_∞) + [x(t_0) - x(t_∞)]e^{-\\frac{t}{τ}}$, onde x pode ser corrente ou tensão e $t_{tr}$ nossa transição, pois a pode ter diversas chaves operando no circuito, aprender essa equação é de suma importância para resolver circuitos de primeira ordem."
      ],
      "metadata": {
        "id": "zc1WcxN6EDK5"
      }
    },
    {
      "cell_type": "markdown",
      "source": [
        "**Exemplo 3.1** Determine v(t) para t > 0 e calcule o seu valor para t = 1s e t = 4s <br>\n",
        "<img src='https://i.imgur.com/M8dyjvH.png'>"
      ],
      "metadata": {
        "id": "DpTmyqsjIKas"
      }
    },
    {
      "cell_type": "code",
      "source": [
        "print(\"Exemplo 3.1\")\n",
        "import numpy as np\n",
        "import math\n",
        "\n",
        "r1= 4000\n",
        "r2= 3000\n",
        "r3= 5000\n",
        "v1= 30\n",
        "v2 = 24\n",
        "c= 0.0005\n",
        "\n",
        "#Primeiro passo é encontrarmos a tensão no capacitor no tempo t<0, assumindo ele 100% carregado\n",
        "#Analisando o circuito percebemos que a tensão do capacitor é a mesma do r3, logo\n",
        "vc= 24*(r3/(r3+r2))\n",
        "\n",
        "#Quando a chave muda o circuito fica apenas v1, c e r1, então podemos aplicar a formula genérica\n",
        "#onde v no infinito = v1, pois o capacitor irá ter toda a tensão da fonte e irá funcionar como curto circuito\n",
        "# e v0= vc calculado acima, logo\n",
        "tau= r1*c\n",
        "\n",
        "def v(t):\n",
        "    return v1 + (vc-v1)*(exp(-t/tau))\n",
        "\n",
        "print(\"No tempo t=1s\",v(1),\"V\")\n",
        "print(\"No tempo t=4s\",v(4),\"V\")"
      ],
      "metadata": {
        "colab": {
          "base_uri": "https://localhost:8080/"
        },
        "id": "rGHJb_bWIqRt",
        "outputId": "6a56c8ab-1dac-4a7c-a29d-b28be4b7a09d"
      },
      "execution_count": null,
      "outputs": [
        {
          "output_type": "stream",
          "name": "stdout",
          "text": [
            "Exemplo 3.1\n",
            "2.0\n",
            "No tempo t=1s 20.9020401043105 V\n",
            "No tempo t=4s 27.9699707514508 V\n"
          ]
        }
      ]
    },
    {
      "cell_type": "markdown",
      "source": [
        "**Exemplo 3.2** Determine i(t) para t > 0 e calcule i para t = 2s e t = 5s: <br>\n",
        "<img src='https://i.imgur.com/YEtxyyV.png'>"
      ],
      "metadata": {
        "id": "C-MOGWhDL9u1"
      }
    },
    {
      "cell_type": "code",
      "source": [
        "print(\"Exemplo 3.2\")\n",
        "import numpy as np\n",
        "import math\n",
        "\n",
        "r1= 4\n",
        "r2= 2\n",
        "r3= 6\n",
        "v1= 40\n",
        "v2= 10\n",
        "l= 5\n",
        "\n",
        "#teremos que para t<0 o indutor está desmagnetizado, logo i(0)=0\n",
        "#então para a primeira transição teremos\n",
        "i0=0\n",
        "req= r1+r3\n",
        "tau= l/req\n",
        "# i no infinito é a corrente total do circuito\n",
        "itotal= v1/req\n",
        "def i(t):\n",
        "    return itotal + (i0-itotal)*(exp(-t/tau))\n",
        "print(\"No tempo t=2s\",i(2),\"A\")\n",
        "\n",
        "#agora para t=5 o circuito muda, lembrando que vale Thevenin aqui também e utilizaremos agora\n",
        "rth= r3+ (1/((1/r1)+(1/r2)))\n",
        "# v no ponto P usando LKN é (v1-v)/r1 + (v2-v)/r2 = v/r3\n",
        "# v = 180/11  => i(infinito)= v/r3 = 30/11\n",
        "i_infinito= 30/11\n",
        "# i no instante de transição é o i anterior calculado no t=4\n",
        "i_transicao= i(4)\n",
        "tau2= l/rth\n",
        "\n",
        "def i2(t):\n",
        "    return i_infinito + (i_transicao - i_infinito)*(exp(-t/tau2))\n",
        "print(\"No tempo t=5s\",i2(1),\"A\") #o tempo ficou 1, pois o nosso novo 0 é o 4 segundos\n",
        "#logo no t=5 é t=1 na nova função"
      ],
      "metadata": {
        "colab": {
          "base_uri": "https://localhost:8080/"
        },
        "id": "frctNyISMozo",
        "outputId": "cff55ba3-8747-432d-8d90-e77ad14d8391"
      },
      "execution_count": null,
      "outputs": [
        {
          "output_type": "stream",
          "name": "stdout",
          "text": [
            "Exemplo 3.2\n",
            "No tempo t=2s 3.92673744444506 A\n",
            "No tempo t=5s 3.02057267619623 A\n"
          ]
        }
      ]
    },
    {
      "cell_type": "markdown",
      "source": [
        "**Circuito RLC**\n",
        "--\n",
        "Um circuito de segunda ordem é quando indutores e capacitores estão associados juntos, assim como no circuito de primeira ordem nosso problema será uma equação diferencial ordinária de segunda ordem, antes nós precisávamos de apenas uma condição de contorno para resolver o circuito, geralmente a corrente ou tensão no tempo $t = 0$, agora precisamos de duas condições, pois conforme aumentamos o grau da EDO teremos mais constantes a serem definidas. <br>\n",
        "Para circuitos RLC teremos dois casos: <br>\n",
        "Figura 3.3 RLC em série <br>\n",
        "<img src='https://i.imgur.com/J7W04PY.png'>\n",
        "<br> Fonte: Alexander, Charles K. <br>\n",
        "Para o circuito da Figura 3.3 iremos aplicar LKM e teremos então a soma das tensões nessa malha sendo igual a zero, logo: <br>\n",
        "#$Ri + L\\frac{di}{dt} + \\frac{1}{C} \\int idt = 0$ <br>\n",
        "Se derivarmos em função do tempo de ambos os lados teremos então: <br>\n",
        "# $\\frac{d^2i}{dt^2} + \\frac{R}{L}\\frac{di}{dt} + \\frac{1}{LC}i = 0$\n",
        "Já para o circuito em paralelo teremos:\n",
        "<br> Figura 3.4 RLC em paralelo <br>\n",
        "<img src='https://i.imgur.com/wyNTWoj.png'> <br> Fonte: Alexander, Charles K. <br>  \n",
        "# $\\frac{d^2v}{dt^2} + \\frac{1}{RC}\\frac{dv}{dt} + \\frac{1}{LC}v = 0$\n",
        "Então podemos generalizar para $\\frac{d^2x}{dt^2} + Ç_1\\frac{dx}{dt} + Ç_2x = 0$, sendo $Ç$ os parametros, que muda para cada tipo de associação. <br>\n",
        "Para resolver o circuito primeiro iremos supor que ele tem a mesma solução que um circuito de primeira ordem, então iremos supor que $i = Ae^{st}$, sendo $A$ e $s$ constantes, então:<br>\n",
        " $\\frac{d^2Ae^{st}}{dt^2} + \\frac{R}{L} \\frac{dAe^{st}}{dt} + \\frac{1}{LC} (Ae^{st}) = 0\n",
        "$ <br>\n",
        "  $(Ase^{st})(s) + \\frac{R}{L}(Ase^{st}) + \\frac{1}{LC}(Ae^{st}) = 0\n",
        "$ <br>\n",
        " $ (Ae^{st})(s^2 + \\frac{Rs}{L} + \\frac{1}{LC}) = 0\n",
        "$<br>\n",
        "  Como $Ae^{st}$ é a solução trivial, ela pode ser zero, logo não nos interessa, restando somente $s^2 + \\frac{Rs}{L} + \\frac{1}{LC} = 0$. Se fosse em paralelo seria $s^2 + \\frac{s}{RC} + \\frac{1}{LC}$. <br>\n",
        "  Agora encontraremos as raízes dessa equação do segundo grau: <br>\n",
        "  $s_{1,2}$ = $-\\frac{1}{2RC} \\pm \\sqrt{\\left(\\frac{1}{2RC}\\right)^2 - \\frac{1}{LC}}\n",
        "$. Com isso temos que $s_{1,2} = -\\alpha \\pm \\sqrt{\\alpha^2 - \\omega_0^2}\n",
        "$. Então a EDO que encontramos ao aplicar Lei de Kirchhoff no circuito é:\n",
        "  <br>\n",
        "  # $\\frac{d^2x}{dt^2} + 2\\alpha \\frac{dx}{dt} + \\omega_0^2 x = 0\n",
        "$\n",
        "\n",
        "Tanto $α$ como $ω_0$ são frequências que o circuito oscila, $ω_0$ é chamada de frequência ressonânte ou frequência natural, pois ela é a frequência que o capacitor e indutor trocam a energia desprezando o resistor, já $α$ é a frequência de neper ou fator de amortecimento, pois é com essa taxa que o circuito irá dissipar a energia. <br>\n",
        "Para encontrarmos a equação que rege o circuito agora precisamos primeiro supor 3 casos:\n",
        "\n",
        "1.   Superamortecimento $ω^2_0<α^2$ <br>\n",
        "Nesse primeiro caso temos nossa solução para o circuito em série como: <br>\n",
        "$i(t) = A_{1}e^{s_{1}t} + A_{2}e^{s_{2}t}\n",
        "$ <br>\n",
        "Para encontrar $A_1$ e $A_2$ teremos de ter a condição inicial e a derivada calculada nessa condição inicial, que é facilmente calculável.\n",
        "<br> Para o circuito em série temos duas equações obtidas a partir dos tempos de transição e a derivada no tempo de transição: <Br>\n",
        "eq. A: $A_{1} + A_{2} = I(0^-)\n",
        "$ <br>\n",
        "eq. B: $A_{1}s_{1} + A_{2}s_{2} = -\\frac{1}{L}(RI_{0} + V_{0})\n",
        "$.\n",
        "2.   Subarmotecimento $ω^2_0>α^2$ <br>\n",
        "$i(t) = e^{-\\alpha t}(B_{1}\\cos(\\omega_{d}t) + B_{2}\\sin(\\omega_{d}t))\n",
        "$ <br>\n",
        "Para essa solução temos que $\\omega_{d} = \\sqrt{-\\alpha^{2} + \\omega_{0}^{2}}\n",
        "$ e $B_1 = A_1 + A_2$ e $B_2 = j(A_1 - A_2)$, para encontrar $B_1$ e $B_2$ podemos usar o mesmo procedimento, colocar $t=0$ e calcular a derivada em $t=0$ assim como no caso de superamortecimento.\n",
        "3. Amortecimento Crítico $ω^2_0=α^2$ <br>\n",
        "$i(t) = (A_{2} + A_{1}t)e^{-\\alpha t}\n",
        "$ <br>\n",
        "Para encontrar as constantes basta fazer o mesmo procedimento dos outros casos. <br>\n",
        "\n",
        "\n",
        " Falamos acima dos três casos em circuito em série, para o circuito em paralelo é a mesma coisa, porém só muda de $i(t)$ para $v(t)$, quando temos um circuito com fonte podemos seguir o seguinte algoritmo, lembrando sempre de utilizar todos os teoremas aprendidos anteriormente para determinar as condições de contorno. <br>\n",
        " Figura 3.5 Algoritimo para solucionar 2º ordem <br>\n",
        " <img src='https://i.imgur.com/2hwpx3E.png'> <br> Fonte: THÉ, GEORGE A. P.\n",
        "\n",
        "\n",
        "\n"
      ],
      "metadata": {
        "id": "tLzONIuaH0gk"
      }
    },
    {
      "cell_type": "markdown",
      "source": [
        "**Exemplo 3.3** No circuito paralelo a seguir determine v(t) para t > 0, supondo v(0) = 5V, i(0) = 0, L= 1H e C= 10mF em t = 2s, com R sendo 1.923, 5 ou 6.25. <br>\n",
        "<img src='https://i.imgur.com/aftNOj8.png'>\n"
      ],
      "metadata": {
        "id": "YKAxgiUalRKh"
      }
    },
    {
      "cell_type": "code",
      "source": [
        "print(\"Exemplo 3.3\")\n",
        "import numpy as np\n",
        "import math\n",
        "from sympy import *\n",
        "r=6.25\n",
        "l=1\n",
        "c=0.01\n",
        "i0= 0\n",
        "v0= 5\n",
        "\n",
        "#primeiro determinamos alfa e omega zero\n",
        "alfa= 1/(2*r*c)\n",
        "omega0= 1/(sqrt(l*c))\n",
        "#Como alfa e omega são iguais teremos\n",
        "if alfa > omega0:\n",
        "        print(\"Superamortecido\")\n",
        "        s1= -alfa + sqrt((alfa**2)-(omega0**2))\n",
        "        s2= -alfa - sqrt((alfa**2)-(omega0**2))\n",
        "        A = np.array([[1, 1], [-2, -50]]) #\n",
        "        B = np.array([5, -260])\n",
        "\n",
        "        # Resolvendo o sistema\n",
        "        X = np.linalg.solve(A, B)\n",
        "\n",
        "        x, y = X\n",
        "        A1= float(x)\n",
        "        A2= float(y)\n",
        "        def vsa(t):\n",
        "            return A1*(exp(s1*t))+A2*(exp(s2*t))\n",
        "\n",
        "        print(vsa(2))\n",
        "\n",
        "elif alfa == omega0:\n",
        "        print(\"Amortecimento Crítico\")\n",
        "        a1=v0\n",
        "        s1= -alfa\n",
        "        dvdt= -(v0+ r*i0)/(r*c)\n",
        "        a2= dvdt - (-alfa*a1)\n",
        "\n",
        "        def vac(t):\n",
        "            return (a1 - t*a2)*(exp(s1*t))\n",
        "\n",
        "        print(vac(2))\n",
        "else:\n",
        "        print(\"Subarmotecido\")\n",
        "        s1R = -alfa\n",
        "        s1I = (omega0**2 - alfa**2)**(1/2)\n",
        "        a1 = v0\n",
        "        dvdt = -(v0 + i0) / (r * c)\n",
        "        a2 = (dvdt + (s1R * a1)) / s1I\n",
        "\n",
        "        def vsub(t):\n",
        "            return (5 * np.cos(6* t) -6.6667 * np.sin(6 * t)) * np.exp(s1R * t)\n",
        "\n",
        "        print(vsub(2))\n",
        "\n",
        "\n"
      ],
      "metadata": {
        "colab": {
          "base_uri": "https://localhost:8080/"
        },
        "id": "WiMM4iGqk6lJ",
        "outputId": "e620d838-9d16-46dd-d201-f49c94c4b43e"
      },
      "execution_count": null,
      "outputs": [
        {
          "output_type": "stream",
          "name": "stdout",
          "text": [
            "Exemplo 3.3\n",
            "Subarmotecido\n",
            "8.77373790040411e-07\n"
          ]
        }
      ]
    },
    {
      "cell_type": "markdown",
      "source": [
        "**Exemplo 3.4** Para o circuito a seguir, encontre v(t) e i(t) para t > 0. Considere os seguintes\n",
        "casos: R = 5 Ω, R = 4 Ω e R = 1 Ω.\n",
        "<br> <img src='https://i.imgur.com/cnLDGN2.png'>"
      ],
      "metadata": {
        "id": "susy8iCAYzfN"
      }
    },
    {
      "cell_type": "code",
      "source": [
        "print(\"Exemplo 3.4\")\n",
        "\n",
        "from sympy import *\n",
        "\n",
        "L = 1\n",
        "C = 0.25\n",
        "Vs = 24\n",
        "\n",
        "t = symbols('t')\n",
        "A1 = symbols('A1')\n",
        "A2 = symbols('A2')\n",
        "\n",
        "def sqrt(x,root=2): #definicao funcao raiz\n",
        "    y = x**(1/root)\n",
        "    return y\n",
        "\n",
        "#Para R = 5\n",
        "R = 5\n",
        "print(\"\\nPara R = 5\\n\")\n",
        "#Para t < 0\n",
        "v0 = Vs*1/(1 + R)\n",
        "i0 = Vs/(1 + R)\n",
        "\n",
        "print(\"v(0):\",v0,\"V\")\n",
        "print(\"i(0):\",i0,\"A\")\n",
        "print(\"dv(0)/dt:\",i0/C,\"V/s\")\n",
        "\n",
        "#Para t > 0\n",
        "\n",
        "def rlc_serie(R,L,C):\n",
        "    alpha = R/(2*L)\n",
        "    omega0 = 1/sqrt(L*C)\n",
        "\n",
        "    print(\"Alpha:\",alpha,\"Np/s\")\n",
        "    print(\"Omega0:\",omega0,\"rad/s\")\n",
        "\n",
        "    s1 = -alpha + sqrt(alpha**2 - omega0**2)\n",
        "    s2 = -alpha - sqrt(alpha**2 - omega0**2)\n",
        "    omegad = sqrt(omega0**2 - alpha**2)\n",
        "\n",
        "    if alpha > omega0:\n",
        "        resposta = \"Superamortecido\"\n",
        "        v = Vs + A1*exp(s1*t) + A2*exp(s2*t)\n",
        "\n",
        "    elif alpha == omega0:\n",
        "        resposta = \"Amortecimento Crítico\"\n",
        "        v = Vs + (A1 + A2*t)*exp(-alpha*t)\n",
        "\n",
        "    else:\n",
        "        resposta = \"Subamortecido\"\n",
        "        v = Vs + (A1*cos(omegad*t) + A2*sin(omegad*t))*exp(-alpha*t)\n",
        "\n",
        "    print(\"Tipo de resposta:\",resposta)\n",
        "    print(\"v(t):\",v,\"V\")\n",
        "    print(\"v(0):\",v.subs(t,0),\"V\")\n",
        "    print(\"dv(0)/dt:\",diff(v,t).subs(t,0))\n",
        "\n",
        "    return alpha, omega0, omegad, resposta, s1, s2, v\n",
        "\n",
        "alpha, omega0, omegad, resposta, s1, s2, v = rlc_serie(R,L,C)\n",
        "\n",
        "#v0 = A1 + A2 + 24 = 4\n",
        "    #A1 = -20 - A2\n",
        "#dv0/dt = ic0/C\n",
        "    #-A1 - 4A2 = 4/0.25 = 16\n",
        "    #20 + A2 - 4A2 = 16\n",
        "    #-3A2 = -4\n",
        "A_2 = -4/-3\n",
        "A_1 = -20 - A_2\n",
        "\n",
        "print(\"Constante A1:\",A_1)\n",
        "print(\"Constante A2:\",A_2)\n",
        "v = v.subs(A1,A_1).subs(A2,A_2)\n",
        "print(\"v(t):\",v,\"V\")\n",
        "i = C*diff(v,t)\n",
        "print(\"i(t):\",i,\"A\")\n",
        "\n",
        "print(\"\\n\\n-------------\\n\\n\")\n",
        "\n",
        "#Para R = 4\n",
        "R = 4\n",
        "print(\"\\nPara R = 4\\n\")\n",
        "v0 = Vs*1/(1 + R)\n",
        "i0 = Vs/(1 + R)\n",
        "\n",
        "print(\"v(0):\",v0,\"V\")\n",
        "print(\"i(0):\",i0,\"A\")\n",
        "print(\"dv(0)/dt:\",i0/C,\"V/s\")\n",
        "\n",
        "alpha, omega0, omegad, resposta, s1, s2, v = rlc_serie(R,L,C)\n",
        "\n",
        "#dv0/dt = -2A1 + A2 = 19.2\n",
        "    #A2 = 19.2 + 2A1\n",
        "#v0 = A1 + 24 = 4.8\n",
        "A_1 = 4.8 - 24\n",
        "A_2 = 19.2 + 2*A_1\n",
        "\n",
        "print(\"Constante A1:\",A_1)\n",
        "print(\"Constante A2:\",A_2)\n",
        "v = v.subs(A1,A_1).subs(A2,A_2)\n",
        "print(\"v(t):\",v,\"V\")\n",
        "i = C*diff(v,t)\n",
        "print(\"i(t):\",i,\"A\")\n",
        "\n",
        "print(\"\\n\\n-------------\\n\\n\")\n",
        "\n",
        "#Para R = 1\n",
        "R = 1\n",
        "print(\"\\nPara R = 1\\n\")\n",
        "v0 = Vs*1/(1 + R)\n",
        "i0 = Vs/(1 + R)\n",
        "\n",
        "print(\"v(0):\",v0,\"V\")\n",
        "print(\"i(0):\",i0,\"A\")\n",
        "print(\"dv(0)/dt:\",i0/C,\"V/s\")\n",
        "\n",
        "alpha, omega0, omegad, resposta, s1, s2, v = rlc_serie(R,L,C)\n",
        "\n",
        "#v0 = A1 + 24 = 12\n",
        "A_1 = 12 - 24\n",
        "#dv0/dt = -0.5A1 + 1.94A2 = 48\n",
        "A_2 = (48 + 0.5*A_1)/1.94\n",
        "\n",
        "print(\"Constante A1:\",A_1)\n",
        "print(\"Constante A2:\",A_2)\n",
        "v = v.subs(A1,A_1).subs(A2,A_2)\n",
        "print(\"v(t):\",v,\"V\")\n",
        "i = C*diff(v,t)\n",
        "print(\"i(t):\",i,\"A\")\n",
        "#Código desenvolvido por Gustavo S.S."
      ],
      "metadata": {
        "colab": {
          "base_uri": "https://localhost:8080/"
        },
        "id": "uh9cenizZCA2",
        "outputId": "471d9164-d947-4f21-c69f-c46ca2c02117"
      },
      "execution_count": null,
      "outputs": [
        {
          "output_type": "stream",
          "name": "stdout",
          "text": [
            "Exemplo 3.4\n",
            "\n",
            "Para R = 5\n",
            "\n",
            "v(0): 4.0 V\n",
            "i(0): 4.0 A\n",
            "dv(0)/dt: 16.0 V/s\n",
            "Alpha: 2.5 Np/s\n",
            "Omega0: 2.0 rad/s\n",
            "Tipo de resposta: Superamortecido\n",
            "v(t): A1*exp(-1.0*t) + A2*exp(-4.0*t) + 24 V\n",
            "v(0): A1 + A2 + 24 V\n",
            "dv(0)/dt: -1.0*A1 - 4.0*A2\n",
            "Constante A1: -21.333333333333332\n",
            "Constante A2: 1.3333333333333333\n",
            "v(t): 24 + 1.33333333333333*exp(-4.0*t) - 21.3333333333333*exp(-1.0*t) V\n",
            "i(t): -1.33333333333333*exp(-4.0*t) + 5.33333333333333*exp(-1.0*t) A\n",
            "\n",
            "\n",
            "-------------\n",
            "\n",
            "\n",
            "\n",
            "Para R = 4\n",
            "\n",
            "v(0): 4.8 V\n",
            "i(0): 4.8 A\n",
            "dv(0)/dt: 19.2 V/s\n",
            "Alpha: 2.0 Np/s\n",
            "Omega0: 2.0 rad/s\n",
            "Tipo de resposta: Amortecimento Crítico\n",
            "v(t): (A1 + A2*t)*exp(-2.0*t) + 24 V\n",
            "v(0): A1 + 24 V\n",
            "dv(0)/dt: -2.0*A1 + A2\n",
            "Constante A1: -19.2\n",
            "Constante A2: -19.2\n",
            "v(t): (-19.2*t - 19.2)*exp(-2.0*t) + 24 V\n",
            "i(t): -0.5*(-19.2*t - 19.2)*exp(-2.0*t) - 4.8*exp(-2.0*t) A\n",
            "\n",
            "\n",
            "-------------\n",
            "\n",
            "\n",
            "\n",
            "Para R = 1\n",
            "\n",
            "v(0): 12.0 V\n",
            "i(0): 12.0 A\n",
            "dv(0)/dt: 48.0 V/s\n",
            "Alpha: 0.5 Np/s\n",
            "Omega0: 2.0 rad/s\n",
            "Tipo de resposta: Subamortecido\n",
            "v(t): (A1*cos(1.93649167310371*t) + A2*sin(1.93649167310371*t))*exp(-0.5*t) + 24 V\n",
            "v(0): A1 + 24 V\n",
            "dv(0)/dt: -0.5*A1 + 1.93649167310371*A2\n",
            "Constante A1: -12\n",
            "Constante A2: 21.649484536082475\n",
            "v(t): (21.6494845360825*sin(1.93649167310371*t) - 12*cos(1.93649167310371*t))*exp(-0.5*t) + 24 V\n",
            "i(t): -0.125*(21.6494845360825*sin(1.93649167310371*t) - 12*cos(1.93649167310371*t))*exp(-0.5*t) + 0.25*(23.2379000772445*sin(1.93649167310371*t) + 41.9240465311112*cos(1.93649167310371*t))*exp(-0.5*t) A\n"
          ]
        }
      ]
    },
    {
      "cell_type": "markdown",
      "source": [
        "# Circuitos em Regime Permanente Senoidal\n",
        "\n",
        "Para finalizar o curso de Circuitos Elétricos para os cursos de Engenharia de Telecomunicações e Computação temos o seguinte problema a ser estudado. Até agora trabalhamos com circuitos sobre fontes contínuas, mais conhecidas como fontes CC, mas o que acontece quando temos fontes alternadas, as famosas fontes CA? <br>\n",
        "Basicamente quando temos circuitos sob o efeito de fontes CA os componentes não operam mais da mesma forma como visto antes, agora nosso problema se tratará no domínio da frequência, pois agora iremos trabalhar com fasores, logo agora iremos definir novas grandezas, as reatâncias, que basicamente são no plano dos complexos. <br>\n"
      ],
      "metadata": {
        "id": "17thRBuUlJ0I"
      }
    },
    {
      "cell_type": "markdown",
      "source": [
        "**Tensão Senoidal e fasores**\n",
        "--\n",
        "Como dito anteriormente agora iremos trabalhar com fontes CA, que são basicamente fontes que alteram seu módulo com o tempo.<br>\n",
        "Figura 4.1 Fonte Senoidal <br> <img src='https://i.imgur.com/9JTc7xh.png'> <br> Fonte: THÉ, GEORGE A. P.\n",
        "<br> Temos então que definir alguns parâmetros, essa fonte da Figura 4.1 é uma fonte genérica que tem entrada $v(t)=V_mcos(𝜔t+ϕ)$, onde $𝜔=2πf$ e $V_{RMS} = \\frac{Vm}{\\sqrt{2}}$, onde esse $V_{RMS}$ é uma equivalência CC-CA. Porém nosso problema não se trata no domínio do tempo e sim no domínio fasorial, logo podemos esquecer $V_{RMS}$ e principalmente esquecer $𝜔$, só precisamos saber duas coisas, $V_m$ e $ϕ$, então nossa fonte $v(t)$ que antes tinha muitos parâmetros agora é simplificada de modo que seja $v(t)=V_m\\angle{ϕ}$. <br>\n",
        "Figura 4.2 Fasor no plano dos complexos <br> <img src='https://i.imgur.com/dDb4zJM.png'> <br> Fonte: Alexander, Charles K. <br>\n",
        "Como estamos trabalhando no plano dos complexos podemos transformar em coordenadas retângulares da seguinte maneira: <br>\n",
        "$v(t)= V_mcos(ϕ) + j V_msen(ϕ)$ <br>\n",
        "Já se temos a forma retângular e queremos achar a forma fasorial temos que $v(t) = r\\angle\\arctan\\left(\\frac{I}{R}\\right)\n",
        "$, onde $r$ é o módulo do vetor, $I$ a coordenada imaginária e $R$ a coordenada real, e arctan o arcotangente, pois ai teremos nosso $ϕ$.\n",
        "<br>\n",
        "Agora podemos fazer qualquer operação com nossos fasores:\n",
        "\n",
        "1.   Soma e subtração <br>\n",
        "Para somar e subtrair é melhor utilizarmos a forma retangular, supondo que $a = b + jc$ e $f = g +jh$ e queremos somar ou subtrair, podemos então associar parte real com real e imaginária com imaginária, então ficando no caso da soma $a+f= (b+g) + j(c+h)$.\n",
        "2.   Divisão e Multiplicação <br>\n",
        "Para dividir e multiplicar vetores é um pouco complexo, então se temos a forma fasorial podemosfazer isso de maneira mais simples, podemos supor $a = x\\angle\\phi\n",
        "$ e $b = y\\angle\\Theta\n",
        "$, a multiplicação será $ab = |x||y|\\angle(\\phi+\\Theta)\n",
        "$ e a divisão será $\\frac{a}{b} = \\frac{|x|}{|y|}\\angle(\\phi-\\Theta)\n",
        "$ .\n",
        "\n",
        "\n",
        "\n"
      ],
      "metadata": {
        "id": "lYa2-SZ0dViD"
      }
    },
    {
      "cell_type": "markdown",
      "source": [
        "**Reatância**\n",
        "--\n",
        "Primeiro de tudo precisamos entender o que é reatância. A reatância é uma forma de representarmos essas três grandezas em uma mesma unidade, no caso transformamos os capacitores e indutores em fasores com unidade Ohm, logo poderemos aplicar a lei de Ohm. Então basta aprender a transformar todos na forma complexa.\n",
        "\n",
        "1.   Resistor<br>\n",
        "Suponha uma corrente $i(t)=i_mcos(ωt+ϕ)$ que passe no resistor, a tensão $v(t)$ no resistor será $v(t)=Ri(t)=Ri_mcos(ωt+ϕ)=V_mcos(ωt+ϕ)$ ou $I=i_m∠ϕ$ e $V= V_m∠ϕ$, logo o resistor está em fase com a fonte, então se a fonte for apenas no eixo real o resistor também será completamente real e a reatância $X_R=R$ em Ohm's.\n",
        "2.   Capacitor <br>\n",
        "Suponha uma corrente $i_C(t)=i_mcos(ωt+ϕ)$ que passa no ramo do capacitor, a tensão $v_C(t)$ no capacitor será $v_C(t)=(\\frac{1}{C})\\int idt$, então $I=i_∠ϕ$ e $V=V_m∠(ϕ-π/2)$, ou seja, a tensão do capacitor está atrasada $90º$ da corrente. Para transformarmos o capacitor em reatância é seguindo a seguinte forma $X_C=-\\frac{j}{ωC}$ em Ohm's. Se supormos que $ω=0$, ou seja, uma fonte CC a reatância tende ao infinito, por isso que quando estudamos capacitores assumimos um circuito aberto quando temos que o capacitor está carregado.\n",
        "3. Indutor <br>\n",
        "Suponha uma corrente $i_L(t)=i_mcos(ωt+ϕ)$ no indutor, a tensão $v_L(t)$ no indutor será $v_L(t)=L\\frac{di}{dt}$, então $I=i_m∠ϕ$ e $V=V_m∠(ϕ+π/2)$, ou seja, a tensão do indutor está adiantada $90º$ da corrente. Para transformarmos o indutor em reatância é seguindo a seguinte forma $X_L=jωL$ em Ohm's. Nota-se que quando $ω=0$ o circuito opera sem resistência, por isso que em fonte CC o indutor funciona como curto circuito quando está magnetizado.\n",
        "<br>\n",
        "\n",
        "Agora podemos aplicar todos os teoremas aprendidos anteriormente, pois teremos apenas Lei de Ohm, podemos aplicar até Thevenín e norton assim como no seguinte exemplo:<br>\n",
        "Figura 4.3 Exemplo a utilizar Thévenin <br> <img src='https://i.imgur.com/TbrjlkC.png'> <br> Fonte: Thé, George A. P.\n",
        "<br> Figura 4.4 Calculo de V<sub>Th</sub> <br><img src='https://i.imgur.com/LuqTXRT.png'> <br>Fonte: Thé, George A. P. <br> Figura 4.5 Calculo de Z<sub>Th</sub> <br><img src='https://i.imgur.com/gLyDXmW.png'> <br>Fonte: Thé, George A. P. <br>\n"
      ],
      "metadata": {
        "id": "rHTYlwjPc79U"
      }
    },
    {
      "cell_type": "markdown",
      "source": [
        "**Exemplo 4.1** Calcule v<sub>0</sub>(t) do seguinte circuito:\n",
        "<br> <img src='https://i.imgur.com/cXy7FnY.png'>"
      ],
      "metadata": {
        "id": "dlyEL25Hqh8q"
      }
    },
    {
      "cell_type": "code",
      "source": [
        "print(\"Exemplo 4.1\")\n",
        "import numpy as np\n",
        "\n",
        "V=20\n",
        "r=60\n",
        "l=5\n",
        "c=0.01\n",
        "omega=4\n",
        "phi=-15\n",
        "\n",
        "zc= -1/(omega*c)\n",
        "zl= omega*l\n",
        "#Primeiramente teremos de colocar zl e zc em paralelo logo\n",
        "zlc= (zc*zl)/(zc+zl)\n",
        "\n",
        "#Agora temos que por divisor de tensão v0=vc\n",
        "#então v0= zlc/(zlc+zc)\n",
        "#em fasor zlc= 100∠90 e zlc+r= sqrt(100²+60²)∠arctg(100/60)\n",
        "zeqR= np.sqrt(r**2 + zlc**2)\n",
        "zeqI= np.arctan(100/60)*180/np.pi\n",
        "ztR=zlc/zeqR\n",
        "ztI= 90-zeqI\n",
        "#Agora temos a parte real e imaginaria, agora basta multiplicar por V\n",
        "v0R = V*ztR\n",
        "v0I = phi + ztI\n",
        "print(\"v0(t)=\",v0R,\"∠\",v0I,\"° V\")\n",
        "print(\"já no domínio do tempo temos v0(t)=\",v0R,\"cos(4t +\",v0I,\"°) V\")"
      ],
      "metadata": {
        "colab": {
          "base_uri": "https://localhost:8080/"
        },
        "id": "4Daz8O4Tr0-Z",
        "outputId": "092aced6-9332-4090-c1c7-27614cff68d9"
      },
      "execution_count": null,
      "outputs": [
        {
          "output_type": "stream",
          "name": "stdout",
          "text": [
            "Exemplo 4.1\n",
            "v0(t)= 17.149858514250884 ∠ 15.963756532073518 ° V\n",
            "já no domínio do tempo temos v0(t)= 17.149858514250884 cos(4t + 15.963756532073518 °) V\n"
          ]
        }
      ]
    },
    {
      "cell_type": "markdown",
      "source": [
        "**Exemplo 4.2** Determine *i*<sub>x</sub> <Br>\n",
        "<img src='https://i.imgur.com/ppTfxy9.png'>"
      ],
      "metadata": {
        "id": "cmq7u_4IEYTa"
      }
    },
    {
      "cell_type": "code",
      "source": [
        "print(\"Exemplo 4.2\")\n",
        "\n",
        "import cmath\n",
        "import numpy as np\n",
        "\n",
        "V = 20\n",
        "omega = 4\n",
        "L1 = 1\n",
        "L2 = 0.5\n",
        "C = 0.1\n",
        "R = 10\n",
        "\n",
        "def impedance(value, omega, element):\n",
        "    if element == 'cap':\n",
        "        Z = -1/(omega*value)\n",
        "        return Z\n",
        "    elif element == 'ind':\n",
        "        Z = omega*value\n",
        "        return Z\n",
        "    else:\n",
        "        print(\"Error!!\")\n",
        "\n",
        "def cart2pol(x, y):\n",
        "    rho = np.sqrt(x**2 + y**2)\n",
        "    phi = np.arctan2(y, x)\n",
        "    return(rho, phi)\n",
        "\n",
        "def pol2cart(rho, phi):\n",
        "    x = rho * np.cos(phi)\n",
        "    y = rho * np.sin(phi)\n",
        "    return(x, y)\n",
        "\n",
        "\n",
        "zc = impedance(C,omega,'cap')\n",
        "zl1 = impedance(L1,omega,\"ind\")\n",
        "zl2 = impedance(L2,omega,\"ind\")\n",
        "\n",
        "print(\"Zc: j\",zc)\n",
        "print(\"Zl1: j\",zl1)\n",
        "print(\"Zl2: j\",zl2)\n",
        "\n",
        "#Nó 1\n",
        "#(20 - V1)/10 = V1/Zc + (V1 - V2)/Zl1\n",
        "    #2 - V1/10 - j0.4V1 + jV1/4 + jV2/4 = 0\n",
        "    #-0.1V1 - j0.15V1 + j0.25V2 = -2\n",
        "    #0.1V1 + j0.15V1 - j0.25V2 = 2\n",
        "    #V1 + j1.5V1 - j2.5V2 = 20\n",
        "\n",
        "#Nó 2\n",
        "#ix = V1/Zc = j0.4V1\n",
        "#2ix + (V1 - V2)/Zl1 = V2/Zl2\n",
        "    #j0.8V1 - j0.25V1 + j0.25V2 + j0.5V2 = 0\n",
        "    #j0.55V1 + j0.75V2 = 0\n",
        "    #55V1 = - 75V2\n",
        "    #V1 = -1.364V2\n",
        "    #V2 = -0.733V1\n",
        "\n",
        "#V1 + j1.5V1 - j1.825V1 = 20\n",
        "#V1 - j0.3325V1 = 20\n",
        "v1 = 20/cart2pol(1,-0.3325)[0], - cart2pol(1,-0.3325)[1]\n",
        "print(\"V1 polar:\",v1[0],\"[{}º]\".format(v1[1]*180/np.pi))\n",
        "ix = v1[0]/cart2pol(0,-2.5)[0], v1[1] - 90\n",
        "v1 = pol2cart(v1[0],v1[1])\n",
        "print(\"V1 retang:\",v1)\n",
        "v2 = np.multiply(-0.733,v1)\n",
        "print(\"V2 retang:\",v2)\n",
        "print(\"Ix:\",ix)"
      ],
      "metadata": {
        "id": "G-U0-MmOE0SF"
      },
      "execution_count": null,
      "outputs": []
    },
    {
      "cell_type": "markdown",
      "source": [
        "# Referências\n",
        "[Robert Boylestad, Introdução à Análise de Circuitos](https://www.amazon.com.br/Introdu%C3%A7%C3%A3o-An%C3%A1lise-Circuitos-Robert-Boylestad/dp/8543024986) <br>[Charles K. Alexander, Fundamentos de Circuitos Elétricos](https://www.amazon.com.br/Fundamentos-Circuitos-El%C3%A9tricos-Charles-Alexander/dp/8580551722) <Br>\n",
        "George A. P. Thé, Notas de Aula. <br>\n",
        "[Simas, Gustavo](https://github.com/GSimas)"
      ],
      "metadata": {
        "id": "wmCAXtqYkR3L"
      }
    }
  ]
}